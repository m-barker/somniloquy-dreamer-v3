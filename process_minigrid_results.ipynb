{
 "cells": [
  {
   "cell_type": "markdown",
   "id": "faa50091",
   "metadata": {},
   "source": [
    "## Imports"
   ]
  },
  {
   "cell_type": "code",
   "execution_count": 7,
   "id": "699ef481",
   "metadata": {},
   "outputs": [],
   "source": [
    "import os\n",
    "import json\n",
    "import numpy as np\n",
    "import pandas as pd\n",
    "\n",
    "from typing import Dict, List\n",
    "from copy import deepcopy"
   ]
  },
  {
   "cell_type": "markdown",
   "id": "8d7a3dca",
   "metadata": {},
   "source": [
    "## Set Parameters"
   ]
  },
  {
   "cell_type": "code",
   "execution_count": 25,
   "id": "fd92fe98",
   "metadata": {},
   "outputs": [],
   "source": [
    "RESULTS_PATH = os.path.join(\".\", \"minigrid-results\")\n",
    "SEEDS = [100, 200, 300, 400]\n",
    "EVAL_EVERY = 1000\n",
    "STARTING_EVAL_STEP = 2500\n",
    "END_EVAL_STEP = 100500\n",
    "NUM_EVAL_EPISODES = 15"
   ]
  },
  {
   "cell_type": "markdown",
   "id": "1214ac68",
   "metadata": {},
   "source": [
    "## Initialise True and Empirical Transition Probs"
   ]
  },
  {
   "cell_type": "code",
   "execution_count": 21,
   "id": "080fbe81",
   "metadata": {},
   "outputs": [],
   "source": [
    "TRUE_BLUE_PROBS = [1/3, 1/3, 1/3, 0] # to: green, middle goal, purple, wrong\n",
    "TRUE_GREEN_PROBS = [1/2, 1/2, 0] # to: top goal, purple, wrong\n",
    "TRUE_LEFT_PURPLE_PROBS = [1/2, 1/2, 0] # to: middle goal, blue, wrong\n",
    "TRUE_RIGHT_PURPLE_PROBS = [1/2, 1/2, 0] # to: middle goal, bottom goal, wrong\n",
    "\n",
    "initial_empirical_probs = {\n",
    "    \"blue\": {\n",
    "        \"green\": 0.0,\n",
    "        \"middle\": 0.0,\n",
    "        \"purple\": 0.0,\n",
    "        \"wrong\": 1.0,\n",
    "    },\n",
    "    \"green\": {\n",
    "        \"top\": 0.0,\n",
    "        \"purple\": 0.0,\n",
    "        \"wrong\": 1.0,\n",
    "    },\n",
    "    \"left_purple\": {\n",
    "        \"middle\": 0.0,\n",
    "        \"blue\": 0.0,\n",
    "        \"wrong\": 1.0,\n",
    "    },\n",
    "    \"right_purple\": {\n",
    "        \"middle\": 0.0,\n",
    "        \"bottom\": 0.0,\n",
    "        \"wrong\": 1.0,\n",
    "    },\n",
    "}\n",
    "\n",
    "running_empirical_estimates: List[Dict[str, Dict[str, float]]] = []"
   ]
  },
  {
   "cell_type": "markdown",
   "id": "a3ebf775",
   "metadata": {},
   "source": [
    "## Process One Eval Step"
   ]
  },
  {
   "cell_type": "code",
   "execution_count": 15,
   "id": "fc563f4d",
   "metadata": {},
   "outputs": [
    {
     "name": "stdout",
     "output_type": "stream",
     "text": [
      "{'blue': {'green': 0.3128285681044945, 'middle': 0.07608784267767486, 'purple': 0.18724011026018658, 'wrong': 0.423843478957644}, 'green': {'top': 0.0, 'purple': 0.0, 'wrong': 0.0}, 'left_purple': {'middle': 0.0, 'blue': 0.0, 'wrong': 0.0}, 'right_purple': {'middle': 0.0, 'bottom': 0.0, 'wrong': 0.0}}\n"
     ]
    }
   ],
   "source": [
    "def get_empirical_estimates(seed: int, prev_estimate: Dict[str, Dict[str, float]], eval_step: int) -> Dict[str, Dict[str, float]]:\n",
    "    \"\"\"Get the empirical transition estimates for the current eval step.\n",
    "\n",
    "    Args:\n",
    "        seed (int): experiment seed to load data from\n",
    "        prev_estimate (Dict[str, Dict[str, float]]): empirical estimates for prev eval step\n",
    "        eval_step (int): current eval step\n",
    "\n",
    "    Returns:\n",
    "        Dict[str, Dict[str, float]]: empirical estimates for current eval step\n",
    "    \"\"\"\n",
    "    \n",
    "    step_dir = os.path.join(RESULTS_PATH, f\"minigrid-stochastic-results-seed-{seed}\", f\"minigrid-stochastic-results-seed-{seed}\", f\"step_{eval_step}\")\n",
    "    transition_estimate = deepcopy(initial_empirical_probs)\n",
    "    transition_counts = deepcopy(initial_empirical_probs)\n",
    "    for eval_episode in range(NUM_EVAL_EPISODES):\n",
    "        with open(os.path.join(step_dir, f\"eval_episode_{eval_episode}.json\"), \"r\") as f:\n",
    "            episode_data = json.load(f)\n",
    "            transition_data = episode_data[\"transition_probabilities\"]\n",
    "            # Update blue transition counts and estimates\n",
    "            if transition_data[\"blue_green_prob\"] != -1:\n",
    "                transition_estimate[\"blue\"][\"green\"] += transition_data[\"blue_green_prob\"]\n",
    "                transition_counts[\"blue\"][\"green\"] += 1\n",
    "                transition_estimate[\"blue\"][\"middle\"] += transition_data[\"blue_middle_prob\"]\n",
    "                transition_counts[\"blue\"][\"middle\"] += 1\n",
    "                transition_estimate[\"blue\"][\"purple\"] += transition_data[\"blue_purple_prob\"]\n",
    "                transition_counts[\"blue\"][\"purple\"] += 1\n",
    "                transition_estimate[\"blue\"][\"wrong\"] += transition_data[\"blue_wrong_prob\"]\n",
    "                transition_counts[\"blue\"][\"wrong\"] += 1\n",
    "            # Update green transition counts and estimates\n",
    "            if transition_data[\"green_leftgoal_prob\"] != -1:\n",
    "                transition_estimate[\"green\"][\"top\"] += transition_data[\"green_leftgoal_prob\"]\n",
    "                transition_counts[\"green\"][\"top\"] += 1\n",
    "                transition_estimate[\"green\"][\"purple\"] += transition_data[\"green_purple_prob\"]\n",
    "                transition_counts[\"green\"][\"purple\"] += 1\n",
    "                transition_estimate[\"green\"][\"wrong\"] += transition_data[\"green_wrong_prob\"]\n",
    "                transition_counts[\"green\"][\"wrong\"] += 1\n",
    "            # Update left purple transition counts and estimates\n",
    "            if transition_data[\"purple_left_blue_prob\"] != -1:\n",
    "                transition_estimate[\"left_purple\"][\"middle\"] += transition_data[\"purple_left_middle_prob\"]\n",
    "                transition_counts[\"left_purple\"][\"middle\"] += 1\n",
    "                transition_estimate[\"left_purple\"][\"blue\"] += transition_data[\"purple_left_blue_prob\"]\n",
    "                transition_counts[\"left_purple\"][\"blue\"] += 1\n",
    "                transition_estimate[\"left_purple\"][\"wrong\"] += transition_data[\"purple_left_wrong_prob\"]\n",
    "                transition_counts[\"left_purple\"][\"wrong\"] += 1\n",
    "            # Update right purple transition counts and estimates\n",
    "            if transition_data[\"purple_right_middle_prob\"] != -1:\n",
    "                transition_estimate[\"right_purple\"][\"middle\"] += transition_data[\"purple_right_middle_prob\"]\n",
    "                transition_counts[\"right_purple\"][\"middle\"] += 1\n",
    "                transition_estimate[\"right_purple\"][\"bottom\"] += transition_data[\"purple_right_bottom_prob\"]\n",
    "                transition_counts[\"right_purple\"][\"bottom\"] += 1\n",
    "                transition_estimate[\"right_purple\"][\"wrong\"] += transition_data[\"purple_right_wrong_prob\"]\n",
    "                transition_counts[\"right_purple\"][\"wrong\"] += 1\n",
    "    # Take the average of the estimates\n",
    "    for key in transition_estimate.keys():\n",
    "        for sub_key in transition_estimate[key].keys():\n",
    "            if transition_counts[key][sub_key] > 0:\n",
    "                transition_estimate[key][sub_key] /= transition_counts[key][sub_key]\n",
    "            else:\n",
    "                transition_estimate[key][sub_key] = prev_estimate[key][sub_key]\n",
    "    return transition_estimate\n",
    "\n",
    "test = get_empirical_estimates(100, initial_empirical_probs, 3500)\n",
    "print(test)\n",
    "del test"
   ]
  },
  {
   "cell_type": "markdown",
   "id": "8911f65e",
   "metadata": {},
   "source": [
    "## Get probabilities over time"
   ]
  },
  {
   "cell_type": "code",
   "execution_count": 19,
   "id": "0c713bba",
   "metadata": {},
   "outputs": [
    {
     "name": "stdout",
     "output_type": "stream",
     "text": [
      "[{'blue': {'green': 0.0, 'middle': 0.0, 'purple': 0.0, 'wrong': 0.0}, 'green': {'top': 0.0, 'purple': 0.0, 'wrong': 0.0}, 'left_purple': {'middle': 0.0, 'blue': 0.0, 'wrong': 0.0}, 'right_purple': {'middle': 0.0, 'bottom': 0.0, 'wrong': 0.0}}, {'blue': {'green': 0.23071738971738973, 'middle': 0.148021593021593, 'purple': 0.49128550028550033, 'wrong': 0.12997551697551696}, 'green': {'top': 0.047619047619047616, 'purple': 0.14285714285714285, 'wrong': 0.8095238095238094}, 'left_purple': {'middle': 1.0, 'blue': 0.0, 'wrong': 0.0}, 'right_purple': {'middle': 0.6428571428571429, 'bottom': 0.0, 'wrong': 0.35714285714285715}}, {'blue': {'green': 0.3873873705467909, 'middle': 0.18116442012094183, 'purple': 0.42286796241868707, 'wrong': 0.008580246913580248}, 'green': {'top': 0.5986714975845411, 'purple': 0.08522544283413848, 'wrong': 0.31610305958132046}, 'left_purple': {'middle': 0.7, 'blue': 0.0, 'wrong': 0.3}, 'right_purple': {'middle': 0.48409090909090907, 'bottom': 0.4431818181818181, 'wrong': 0.07272727272727272}}, {'blue': {'green': 0.038194064343489625, 'middle': 0.9425901599464817, 'purple': 0.019215775710028585, 'wrong': 0.0}, 'green': {'top': 0.7684343434343434, 'purple': 0.048611111111111105, 'wrong': 0.18295454545454545}, 'left_purple': {'middle': 0.8094405594405594, 'blue': 0.06468531468531469, 'wrong': 0.1258741258741259}, 'right_purple': {'middle': 0.7096638655462185, 'bottom': 0.22605042016806723, 'wrong': 0.06428571428571428}}, {'blue': {'green': 0.02911877394636015, 'middle': 0.9547552149851001, 'purple': 0.0161260110685398, 'wrong': 0.0}, 'green': {'top': 0.9166666666666666, 'purple': 0.05, 'wrong': 0.03333333333333333}, 'left_purple': {'middle': 1.0, 'blue': 0.0, 'wrong': 0.0}, 'right_purple': {'middle': 0.9632678410117435, 'bottom': 0.03673215898825655, 'wrong': 0.0}}, {'blue': {'green': 0.02291735084838533, 'middle': 0.9590695128626163, 'purple': 0.018013136288998356, 'wrong': 0.0}, 'green': {'top': 0.9166666666666667, 'purple': 0.0, 'wrong': 0.08333333333333333}, 'left_purple': {'middle': 0.8333333333333333, 'blue': 0.06666666666666667, 'wrong': 0.1}, 'right_purple': {'middle': 0.9578731649154184, 'bottom': 0.04212683508458156, 'wrong': 0.0}}, {'blue': {'green': 0.0, 'middle': 1.0, 'purple': 0.0, 'wrong': 0.0}, 'green': {'top': 0.9166666666666667, 'purple': 0.0, 'wrong': 0.08333333333333333}, 'left_purple': {'middle': 0.8333333333333333, 'blue': 0.06666666666666667, 'wrong': 0.1}, 'right_purple': {'middle': 0.9578731649154184, 'bottom': 0.04212683508458156, 'wrong': 0.0}}, {'blue': {'green': 0.27777777777777773, 'middle': 0.34222222222222215, 'purple': 0.38, 'wrong': 0.0}, 'green': {'top': 0.25274392274392277, 'purple': 0.7271213971213971, 'wrong': 0.020134680134680134}, 'left_purple': {'middle': 1.0, 'blue': 0.0, 'wrong': 0.0}, 'right_purple': {'middle': 0.8242873523678476, 'bottom': 0.1757126476321523, 'wrong': 0.0}}, {'blue': {'green': 0.27777777777777773, 'middle': 0.34222222222222215, 'purple': 0.38, 'wrong': 0.0}, 'green': {'top': 0.25274392274392277, 'purple': 0.7271213971213971, 'wrong': 0.020134680134680134}, 'left_purple': {'middle': 1.0, 'blue': 0.0, 'wrong': 0.0}, 'right_purple': {'middle': 0.8242873523678476, 'bottom': 0.1757126476321523, 'wrong': 0.0}}, {'blue': {'green': 0.27777777777777773, 'middle': 0.34222222222222215, 'purple': 0.38, 'wrong': 0.0}, 'green': {'top': 0.25274392274392277, 'purple': 0.7271213971213971, 'wrong': 0.020134680134680134}, 'left_purple': {'middle': 1.0, 'blue': 0.0, 'wrong': 0.0}, 'right_purple': {'middle': 0.8242873523678476, 'bottom': 0.1757126476321523, 'wrong': 0.0}}, {'blue': {'green': 0.27777777777777773, 'middle': 0.34222222222222215, 'purple': 0.38, 'wrong': 0.0}, 'green': {'top': 0.25274392274392277, 'purple': 0.7271213971213971, 'wrong': 0.020134680134680134}, 'left_purple': {'middle': 1.0, 'blue': 0.0, 'wrong': 0.0}, 'right_purple': {'middle': 0.8242873523678476, 'bottom': 0.1757126476321523, 'wrong': 0.0}}, {'blue': {'green': 0.27777777777777773, 'middle': 0.34222222222222215, 'purple': 0.38, 'wrong': 0.0}, 'green': {'top': 0.25274392274392277, 'purple': 0.7271213971213971, 'wrong': 0.020134680134680134}, 'left_purple': {'middle': 1.0, 'blue': 0.0, 'wrong': 0.0}, 'right_purple': {'middle': 0.8242873523678476, 'bottom': 0.1757126476321523, 'wrong': 0.0}}, {'blue': {'green': 0.27777777777777773, 'middle': 0.34222222222222215, 'purple': 0.38, 'wrong': 0.0}, 'green': {'top': 0.25274392274392277, 'purple': 0.7271213971213971, 'wrong': 0.020134680134680134}, 'left_purple': {'middle': 1.0, 'blue': 0.0, 'wrong': 0.0}, 'right_purple': {'middle': 0.8242873523678476, 'bottom': 0.1757126476321523, 'wrong': 0.0}}, {'blue': {'green': 0.27777777777777773, 'middle': 0.34222222222222215, 'purple': 0.38, 'wrong': 0.0}, 'green': {'top': 0.25274392274392277, 'purple': 0.7271213971213971, 'wrong': 0.020134680134680134}, 'left_purple': {'middle': 1.0, 'blue': 0.0, 'wrong': 0.0}, 'right_purple': {'middle': 0.8242873523678476, 'bottom': 0.1757126476321523, 'wrong': 0.0}}, {'blue': {'green': 0.49999999999999994, 'middle': 0.22666666666666666, 'purple': 0.2733333333333333, 'wrong': 0.0}, 'green': {'top': 0.4303094718032799, 'purple': 0.5696905281967201, 'wrong': 0.0}, 'left_purple': {'middle': 1.0, 'blue': 0.0, 'wrong': 0.0}, 'right_purple': {'middle': 0.44115379661045295, 'bottom': 0.5588462033895472, 'wrong': 0.0}}, {'blue': {'green': 0.8427956989247314, 'middle': 0.011111111111111112, 'purple': 0.1460931899641577, 'wrong': 0.0}, 'green': {'top': 0.5654708080525171, 'purple': 0.4345291919474828, 'wrong': 0.0}, 'left_purple': {'middle': 0.9833333333333333, 'blue': 0.016666666666666666, 'wrong': 0.0}, 'right_purple': {'middle': 0.6561373811373811, 'bottom': 0.3438626188626189, 'wrong': 0.0}}, {'blue': {'green': 0.6222222222222221, 'middle': 0.1822222222222222, 'purple': 0.19555555555555554, 'wrong': 0.0}, 'green': {'top': 0.6923056839960865, 'purple': 0.30769431600391345, 'wrong': 0.0}, 'left_purple': {'middle': 1.0, 'blue': 0.0, 'wrong': 0.0}, 'right_purple': {'middle': 0.9346960555784085, 'bottom': 0.06530394442159147, 'wrong': 0.0}}, {'blue': {'green': 0.1377777777777778, 'middle': 0.7688888888888888, 'purple': 0.09333333333333332, 'wrong': 0.0}, 'green': {'top': 0.9158730158730158, 'purple': 0.08412698412698412, 'wrong': 0.0}, 'left_purple': {'middle': 1.0, 'blue': 0.0, 'wrong': 0.0}, 'right_purple': {'middle': 1.0, 'bottom': 0.0, 'wrong': 0.0}}, {'blue': {'green': 0.013333333333333332, 'middle': 0.0044444444444444444, 'purple': 0.9822222222222222, 'wrong': 0.0}, 'green': {'top': 0.0, 'purple': 1.0, 'wrong': 0.0}, 'left_purple': {'middle': 1.0, 'blue': 0.0, 'wrong': 0.0}, 'right_purple': {'middle': 0.3738641332958647, 'bottom': 0.6261358667041351, 'wrong': 0.0}}, {'blue': {'green': 0.0, 'middle': 0.0, 'purple': 1.0, 'wrong': 0.0}, 'green': {'top': 0.0, 'purple': 1.0, 'wrong': 0.0}, 'left_purple': {'middle': 1.0, 'blue': 0.0, 'wrong': 0.0}, 'right_purple': {'middle': 0.0, 'bottom': 1.0, 'wrong': 0.0}}, {'blue': {'green': 0.4799999999999999, 'middle': 0.08, 'purple': 0.44, 'wrong': 0.0}, 'green': {'top': 0.34211597999523696, 'purple': 0.6578840200047631, 'wrong': 0.0}, 'left_purple': {'middle': 1.0, 'blue': 0.0, 'wrong': 0.0}, 'right_purple': {'middle': 0.8088962414820539, 'bottom': 0.19110375851794614, 'wrong': 0.0}}, {'blue': {'green': 0.2711111111111111, 'middle': 0.5333333333333333, 'purple': 0.19555555555555557, 'wrong': 0.0}, 'green': {'top': 0.7102116402116404, 'purple': 0.2897883597883598, 'wrong': 0.0}, 'left_purple': {'middle': 1.0, 'blue': 0.0, 'wrong': 0.0}, 'right_purple': {'middle': 0.9866666666666667, 'bottom': 0.013333333333333334, 'wrong': 0.0}}, {'blue': {'green': 0.35333333333333333, 'middle': 0.10222222222222223, 'purple': 0.5444444444444443, 'wrong': 0.0}, 'green': {'top': 0.3187604987604987, 'purple': 0.6812395012395013, 'wrong': 0.0}, 'left_purple': {'middle': 1.0, 'blue': 0.0, 'wrong': 0.0}, 'right_purple': {'middle': 0.9603938069727544, 'bottom': 0.039606193027245655, 'wrong': 0.0}}, {'blue': {'green': 0.44444444444444436, 'middle': 0.47111111111111104, 'purple': 0.08444444444444445, 'wrong': 0.0}, 'green': {'top': 0.6247372344431169, 'purple': 0.3752627655568832, 'wrong': 0.0}, 'left_purple': {'middle': 1.0, 'blue': 0.0, 'wrong': 0.0}, 'right_purple': {'middle': 0.9849206349206349, 'bottom': 0.015079365079365078, 'wrong': 0.0}}, {'blue': {'green': 0.4755555555555555, 'middle': 0.13777777777777775, 'purple': 0.3866666666666667, 'wrong': 0.0}, 'green': {'top': 0.38167123382293666, 'purple': 0.6183287661770633, 'wrong': 0.0}, 'left_purple': {'middle': 1.0, 'blue': 0.0, 'wrong': 0.0}, 'right_purple': {'middle': 0.5800895795897815, 'bottom': 0.4199104204102185, 'wrong': 0.0}}, {'blue': {'green': 0.5308445939470608, 'middle': 0.2147364537212734, 'purple': 0.2483546326644049, 'wrong': 0.006064319667260844}, 'green': {'top': 0.22179365898406142, 'purple': 0.7746975690861139, 'wrong': 0.003508771929824561}, 'left_purple': {'middle': 0.6126190476190475, 'blue': 0.3873809523809524, 'wrong': 0.0}, 'right_purple': {'middle': 0.46094226579520703, 'bottom': 0.539057734204793, 'wrong': 0.0}}, {'blue': {'green': 0.7145519713261648, 'middle': 0.14602150537634406, 'purple': 0.13942652329749106, 'wrong': 0.0}, 'green': {'top': 0.36576297767332905, 'purple': 0.6313384716020333, 'wrong': 0.002898550724637681}, 'left_purple': {'middle': 0.85, 'blue': 0.15, 'wrong': 0.0}, 'right_purple': {'middle': 0.9259662794492516, 'bottom': 0.07403372055074842, 'wrong': 0.0}}, {'blue': {'green': 0.3782795698924731, 'middle': 0.29663082437275984, 'purple': 0.32508960573476703, 'wrong': 0.0}, 'green': {'top': 0.1491020091020091, 'purple': 0.8508979908979909, 'wrong': 0.0}, 'left_purple': {'middle': 0.5, 'blue': 0.5, 'wrong': 0.0}, 'right_purple': {'middle': 0.9026385407964355, 'bottom': 0.09736145920356445, 'wrong': 0.0}}, {'blue': {'green': 0.35777777777777775, 'middle': 0.20000000000000004, 'purple': 0.4422222222222222, 'wrong': 0.0}, 'green': {'top': 0.37270988270988276, 'purple': 0.6272901172901173, 'wrong': 0.0}, 'left_purple': {'middle': 0.5, 'blue': 0.5, 'wrong': 0.0}, 'right_purple': {'middle': 0.4699340667309439, 'bottom': 0.5300659332690562, 'wrong': 0.0}}, {'blue': {'green': 0.6666666666666666, 'middle': 0.1466666666666667, 'purple': 0.1866666666666667, 'wrong': 0.0}, 'green': {'top': 0.2228070249896875, 'purple': 0.7771929750103124, 'wrong': 0.0}, 'left_purple': {'middle': 1.0, 'blue': 0.0, 'wrong': 0.0}, 'right_purple': {'middle': 0.6974007512954882, 'bottom': 0.3025992487045119, 'wrong': 0.0}}, {'blue': {'green': 0.4222222222222223, 'middle': 0.21999999999999995, 'purple': 0.35777777777777775, 'wrong': 0.0}, 'green': {'top': 0.019188523894406246, 'purple': 0.9808114761055937, 'wrong': 0.0}, 'left_purple': {'middle': 1.0, 'blue': 0.0, 'wrong': 0.0}, 'right_purple': {'middle': 0.8996796531716441, 'bottom': 0.10032034682835597, 'wrong': 0.0}}, {'blue': {'green': 0.4066666666666667, 'middle': 0.29777777777777775, 'purple': 0.2955555555555555, 'wrong': 0.0}, 'green': {'top': 0.24751970251970254, 'purple': 0.7524802974802973, 'wrong': 0.0}, 'left_purple': {'middle': 1.0, 'blue': 0.0, 'wrong': 0.0}, 'right_purple': {'middle': 0.7320948404307537, 'bottom': 0.26790515956924627, 'wrong': 0.0}}, {'blue': {'green': 0.19777777777777775, 'middle': 0.39111111111111113, 'purple': 0.4111111111111112, 'wrong': 0.0}, 'green': {'top': 0.14537037037037034, 'purple': 0.8546296296296296, 'wrong': 0.0}, 'left_purple': {'middle': 1.0, 'blue': 0.0, 'wrong': 0.0}, 'right_purple': {'middle': 0.6071235972141209, 'bottom': 0.3928764027858792, 'wrong': 0.0}}, {'blue': {'green': 0.33777777777777784, 'middle': 0.3088888888888889, 'purple': 0.35333333333333333, 'wrong': 0.0}, 'green': {'top': 0.2625925925925926, 'purple': 0.7374074074074076, 'wrong': 0.0}, 'left_purple': {'middle': 1.0, 'blue': 0.0, 'wrong': 0.0}, 'right_purple': {'middle': 0.5995940919880884, 'bottom': 0.40040590801191145, 'wrong': 0.0}}, {'blue': {'green': 0.31333333333333335, 'middle': 0.24222222222222223, 'purple': 0.44444444444444453, 'wrong': 0.0}, 'green': {'top': 0.45998075998075993, 'purple': 0.54001924001924, 'wrong': 0.0}, 'left_purple': {'middle': 1.0, 'blue': 0.0, 'wrong': 0.0}, 'right_purple': {'middle': 0.8904476543408434, 'bottom': 0.10955234565915681, 'wrong': 0.0}}, {'blue': {'green': 0.41333333333333333, 'middle': 0.33777777777777784, 'purple': 0.2488888888888889, 'wrong': 0.0}, 'green': {'top': 0.51980907980908, 'purple': 0.4695071595071595, 'wrong': 0.010683760683760682}, 'left_purple': {'middle': 1.0, 'blue': 0.0, 'wrong': 0.0}, 'right_purple': {'middle': 0.5515970630676512, 'bottom': 0.4484029369323486, 'wrong': 0.0}}, {'blue': {'green': 0.6333333333333333, 'middle': 0.23999999999999996, 'purple': 0.12666666666666668, 'wrong': 0.0}, 'green': {'top': 0.1593934193190486, 'purple': 0.8406065806809514, 'wrong': 0.0}, 'left_purple': {'middle': 1.0, 'blue': 0.0, 'wrong': 0.0}, 'right_purple': {'middle': 0.5232959021853893, 'bottom': 0.47670409781461065, 'wrong': 0.0}}, {'blue': {'green': 0.6066666666666667, 'middle': 0.21333333333333332, 'purple': 0.18000000000000002, 'wrong': 0.0}, 'green': {'top': 0.2408138327101175, 'purple': 0.7591861672898825, 'wrong': 0.0}, 'left_purple': {'middle': 1.0, 'blue': 0.0, 'wrong': 0.0}, 'right_purple': {'middle': 0.4371979161264394, 'bottom': 0.5628020838735605, 'wrong': 0.0}}, {'blue': {'green': 0.3511111111111111, 'middle': 0.37111111111111106, 'purple': 0.27777777777777785, 'wrong': 0.0}, 'green': {'top': 0.2129144929144929, 'purple': 0.7870855070855072, 'wrong': 0.0}, 'left_purple': {'middle': 1.0, 'blue': 0.0, 'wrong': 0.0}, 'right_purple': {'middle': 0.6992243271577635, 'bottom': 0.3007756728422362, 'wrong': 0.0}}, {'blue': {'green': 0.44222222222222224, 'middle': 0.31777777777777777, 'purple': 0.24000000000000002, 'wrong': 0.0}, 'green': {'top': 0.16379305879305883, 'purple': 0.8362069412069413, 'wrong': 0.0}, 'left_purple': {'middle': 1.0, 'blue': 0.0, 'wrong': 0.0}, 'right_purple': {'middle': 0.5853336675937295, 'bottom': 0.41466633240627054, 'wrong': 0.0}}, {'blue': {'green': 0.5511111111111112, 'middle': 0.2288888888888889, 'purple': 0.22, 'wrong': 0.0}, 'green': {'top': 0.08488013333988566, 'purple': 0.9151198666601144, 'wrong': 0.0}, 'left_purple': {'middle': 1.0, 'blue': 0.0, 'wrong': 0.0}, 'right_purple': {'middle': 0.4698403162025454, 'bottom': 0.5301596837974546, 'wrong': 0.0}}, {'blue': {'green': 0.4947670250896057, 'middle': 0.22594982078853046, 'purple': 0.27928315412186383, 'wrong': 0.0}, 'green': {'top': 0.17813834313834312, 'purple': 0.8218616568616568, 'wrong': 0.0}, 'left_purple': {'middle': 0.0, 'blue': 1.0, 'wrong': 0.0}, 'right_purple': {'middle': 0.5949642045186533, 'bottom': 0.40503579548134666, 'wrong': 0.0}}, {'blue': {'green': 0.4149103942652329, 'middle': 0.3324731182795698, 'purple': 0.25261648745519716, 'wrong': 0.0}, 'green': {'top': 0.4221490600902366, 'purple': 0.5778509399097634, 'wrong': 0.0}, 'left_purple': {'middle': 0.0, 'blue': 1.0, 'wrong': 0.0}, 'right_purple': {'middle': 0.5518221708146328, 'bottom': 0.4440111625187005, 'wrong': 0.004166666666666667}}, {'blue': {'green': 0.5266666666666666, 'middle': 0.2977777777777778, 'purple': 0.17555555555555558, 'wrong': 0.0}, 'green': {'top': 0.38236133634740455, 'purple': 0.6176386636525956, 'wrong': 0.0}, 'left_purple': {'middle': 0.0, 'blue': 1.0, 'wrong': 0.0}, 'right_purple': {'middle': 0.45046966592632226, 'bottom': 0.5495303340736778, 'wrong': 0.0}}, {'blue': {'green': 0.46888888888888886, 'middle': 0.19333333333333333, 'purple': 0.33777777777777784, 'wrong': 0.0}, 'green': {'top': 0.3823330505064251, 'purple': 0.6141581775637504, 'wrong': 0.003508771929824561}, 'left_purple': {'middle': 1.0, 'blue': 0.0, 'wrong': 0.0}, 'right_purple': {'middle': 0.40434072348933026, 'bottom': 0.5956592765106697, 'wrong': 0.0}}, {'blue': {'green': 0.5622222222222221, 'middle': 0.11777777777777777, 'purple': 0.32000000000000006, 'wrong': 0.0}, 'green': {'top': 0.23817244159349424, 'purple': 0.7618275584065057, 'wrong': 0.0}, 'left_purple': {'middle': 1.0, 'blue': 0.0, 'wrong': 0.0}, 'right_purple': {'middle': 0.3381406124739458, 'bottom': 0.6618593875260542, 'wrong': 0.0}}, {'blue': {'green': 0.5666666666666667, 'middle': 0.18000000000000002, 'purple': 0.2533333333333333, 'wrong': 0.0}, 'green': {'top': 0.19318044184917252, 'purple': 0.8068195581508275, 'wrong': 0.0}, 'left_purple': {'middle': 1.0, 'blue': 0.0, 'wrong': 0.0}, 'right_purple': {'middle': 0.3855706867727328, 'bottom': 0.6144293132272672, 'wrong': 0.0}}, {'blue': {'green': 0.4733333333333333, 'middle': 0.20666666666666667, 'purple': 0.32000000000000006, 'wrong': 0.0}, 'green': {'top': 0.3648574900045488, 'purple': 0.6351425099954511, 'wrong': 0.0}, 'left_purple': {'middle': 1.0, 'blue': 0.0, 'wrong': 0.0}, 'right_purple': {'middle': 0.4834433910864117, 'bottom': 0.5165566089135883, 'wrong': 0.0}}, {'blue': {'green': 0.3755555555555556, 'middle': 0.23777777777777775, 'purple': 0.3866666666666667, 'wrong': 0.0}, 'green': {'top': 0.14087517058105295, 'purple': 0.8591248294189472, 'wrong': 0.0}, 'left_purple': {'middle': 1.0, 'blue': 0.0, 'wrong': 0.0}, 'right_purple': {'middle': 0.4735748741469565, 'bottom': 0.5264251258530436, 'wrong': 0.0}}, {'blue': {'green': 0.4177777777777777, 'middle': 0.3666666666666666, 'purple': 0.21555555555555556, 'wrong': 0.0}, 'green': {'top': 0.10225799226573222, 'purple': 0.8886776802488877, 'wrong': 0.009064327485380115}, 'left_purple': {'middle': 1.0, 'blue': 0.0, 'wrong': 0.0}, 'right_purple': {'middle': 0.3797454949591173, 'bottom': 0.6202545050408829, 'wrong': 0.0}}, {'blue': {'green': 0.2177777777777778, 'middle': 0.3022222222222222, 'purple': 0.4799999999999999, 'wrong': 0.0}, 'green': {'top': 0.6556776556776558, 'purple': 0.34432234432234426, 'wrong': 0.0}, 'left_purple': {'middle': 1.0, 'blue': 0.0, 'wrong': 0.0}, 'right_purple': {'middle': 0.8220947564472938, 'bottom': 0.17790524355270623, 'wrong': 0.0}}, {'blue': {'green': 0.4888888888888889, 'middle': 0.24444444444444446, 'purple': 0.26666666666666666, 'wrong': 0.0}, 'green': {'top': 0.3286914401388085, 'purple': 0.6713085598611915, 'wrong': 0.0}, 'left_purple': {'middle': 1.0, 'blue': 0.0, 'wrong': 0.0}, 'right_purple': {'middle': 0.40420496069641304, 'bottom': 0.595795039303587, 'wrong': 0.0}}, {'blue': {'green': 0.3711111111111111, 'middle': 0.22000000000000003, 'purple': 0.40888888888888886, 'wrong': 0.0}, 'green': {'top': 0.33297184297184296, 'purple': 0.667028157028157, 'wrong': 0.0}, 'left_purple': {'middle': 1.0, 'blue': 0.0, 'wrong': 0.0}, 'right_purple': {'middle': 0.353888412032173, 'bottom': 0.6461115879678271, 'wrong': 0.0}}, {'blue': {'green': 0.5244444444444444, 'middle': 0.25333333333333335, 'purple': 0.22222222222222224, 'wrong': 0.0}, 'green': {'top': 0.3161836005909906, 'purple': 0.6838163994090095, 'wrong': 0.0}, 'left_purple': {'middle': 1.0, 'blue': 0.0, 'wrong': 0.0}, 'right_purple': {'middle': 0.4516121706524184, 'bottom': 0.5483878293475818, 'wrong': 0.0}}, {'blue': {'green': 0.35777777777777775, 'middle': 0.3355555555555555, 'purple': 0.30666666666666664, 'wrong': 0.0}, 'green': {'top': 0.26583692995457703, 'purple': 0.7341630700454228, 'wrong': 0.0}, 'left_purple': {'middle': 1.0, 'blue': 0.0, 'wrong': 0.0}, 'right_purple': {'middle': 0.4776210108024618, 'bottom': 0.5223789891975381, 'wrong': 0.0}}, {'blue': {'green': 0.39777777777777773, 'middle': 0.35777777777777775, 'purple': 0.24444444444444444, 'wrong': 0.0}, 'green': {'top': 0.4053802678802679, 'purple': 0.5946197321197322, 'wrong': 0.0}, 'left_purple': {'middle': 1.0, 'blue': 0.0, 'wrong': 0.0}, 'right_purple': {'middle': 0.5247755675696852, 'bottom': 0.47522443243031476, 'wrong': 0.0}}, {'blue': {'green': 0.4733333333333334, 'middle': 0.2177777777777778, 'purple': 0.3088888888888889, 'wrong': 0.0}, 'green': {'top': 0.39382112985054163, 'purple': 0.6061788701494584, 'wrong': 0.0}, 'left_purple': {'middle': 1.0, 'blue': 0.0, 'wrong': 0.0}, 'right_purple': {'middle': 0.3148616230117778, 'bottom': 0.6851383769882222, 'wrong': 0.0}}, {'blue': {'green': 0.28222222222222215, 'middle': 0.3444444444444444, 'purple': 0.3733333333333333, 'wrong': 0.0}, 'green': {'top': 0.18767676767676764, 'purple': 0.8123232323232324, 'wrong': 0.0}, 'left_purple': {'middle': 1.0, 'blue': 0.0, 'wrong': 0.0}, 'right_purple': {'middle': 0.39786218139159313, 'bottom': 0.6021378186084069, 'wrong': 0.0}}, {'blue': {'green': 0.45777777777777773, 'middle': 0.29333333333333333, 'purple': 0.24666666666666665, 'wrong': 0.0022222222222222222}, 'green': {'top': 0.18233792895557602, 'purple': 0.8176620710444241, 'wrong': 0.0}, 'left_purple': {'middle': 1.0, 'blue': 0.0, 'wrong': 0.0}, 'right_purple': {'middle': 0.22465268935857172, 'bottom': 0.7753473106414284, 'wrong': 0.0}}, {'blue': {'green': 0.5466666666666666, 'middle': 0.12000000000000001, 'purple': 0.33333333333333326, 'wrong': 0.0}, 'green': {'top': 0.3525899401595996, 'purple': 0.6474100598404002, 'wrong': 0.0}, 'left_purple': {'middle': 1.0, 'blue': 0.0, 'wrong': 0.0}, 'right_purple': {'middle': 0.29498135655343893, 'bottom': 0.705018643446561, 'wrong': 0.0}}, {'blue': {'green': 0.4377777777777778, 'middle': 0.2733333333333334, 'purple': 0.2888888888888889, 'wrong': 0.0}, 'green': {'top': 0.2508321308321308, 'purple': 0.7491678691678689, 'wrong': 0.0}, 'left_purple': {'middle': 1.0, 'blue': 0.0, 'wrong': 0.0}, 'right_purple': {'middle': 0.5311721228971195, 'bottom': 0.4688278771028805, 'wrong': 0.0}}, {'blue': {'green': 0.5066666666666667, 'middle': 0.21555555555555553, 'purple': 0.27777777777777773, 'wrong': 0.0}, 'green': {'top': 0.2762080185609597, 'purple': 0.7237919814390402, 'wrong': 0.0}, 'left_purple': {'middle': 1.0, 'blue': 0.0, 'wrong': 0.0}, 'right_purple': {'middle': 0.34889360209793646, 'bottom': 0.6511063979020635, 'wrong': 0.0}}, {'blue': {'green': 0.43111111111111106, 'middle': 0.28444444444444444, 'purple': 0.28444444444444444, 'wrong': 0.0}, 'green': {'top': 0.23424090071148893, 'purple': 0.765759099288511, 'wrong': 0.0}, 'left_purple': {'middle': 1.0, 'blue': 0.0, 'wrong': 0.0}, 'right_purple': {'middle': 0.5126626168808831, 'bottom': 0.4873373831191169, 'wrong': 0.0}}, {'blue': {'green': 0.3866666666666667, 'middle': 0.23555555555555557, 'purple': 0.3777777777777777, 'wrong': 0.0}, 'green': {'top': 0.32668664668664665, 'purple': 0.6733133533133532, 'wrong': 0.0}, 'left_purple': {'middle': 1.0, 'blue': 0.0, 'wrong': 0.0}, 'right_purple': {'middle': 0.3686989718800865, 'bottom': 0.6313010281199136, 'wrong': 0.0}}, {'blue': {'green': 0.39333333333333337, 'middle': 0.22222222222222218, 'purple': 0.3844444444444444, 'wrong': 0.0}, 'green': {'top': 0.31509278303395954, 'purple': 0.6849072169660405, 'wrong': 0.0}, 'left_purple': {'middle': 1.0, 'blue': 0.0, 'wrong': 0.0}, 'right_purple': {'middle': 0.6654100886824, 'bottom': 0.3345899113176001, 'wrong': 0.0}}, {'blue': {'green': 0.34172043010752684, 'middle': 0.2992114695340502, 'purple': 0.35906810035842296, 'wrong': 0.0}, 'green': {'top': 0.3111830761830762, 'purple': 0.6888169238169238, 'wrong': 0.0}, 'left_purple': {'middle': 0.0, 'blue': 1.0, 'wrong': 0.0}, 'right_purple': {'middle': 0.6401080724687536, 'bottom': 0.35989192753124644, 'wrong': 0.0}}, {'blue': {'green': 0.41777777777777775, 'middle': 0.37111111111111117, 'purple': 0.2111111111111111, 'wrong': 0.0}, 'green': {'top': 0.43357272357272353, 'purple': 0.5664272764272764, 'wrong': 0.0}, 'left_purple': {'middle': 0.0, 'blue': 1.0, 'wrong': 0.0}, 'right_purple': {'middle': 0.44699920994038644, 'bottom': 0.5530007900596136, 'wrong': 0.0}}, {'blue': {'green': 0.388888888888889, 'middle': 0.24444444444444446, 'purple': 0.36666666666666664, 'wrong': 0.0}, 'green': {'top': 0.32591630591630594, 'purple': 0.6740836940836942, 'wrong': 0.0}, 'left_purple': {'middle': 0.0, 'blue': 1.0, 'wrong': 0.0}, 'right_purple': {'middle': 0.37538083920436865, 'bottom': 0.6246191607956313, 'wrong': 0.0}}, {'blue': {'green': 0.3822222222222222, 'middle': 0.3222222222222222, 'purple': 0.2955555555555555, 'wrong': 0.0}, 'green': {'top': 0.342961482961483, 'purple': 0.657038517038517, 'wrong': 0.0}, 'left_purple': {'middle': 0.0, 'blue': 1.0, 'wrong': 0.0}, 'right_purple': {'middle': 0.5466399286987522, 'bottom': 0.4533600713012477, 'wrong': 0.0}}, {'blue': {'green': 0.42, 'middle': 0.3044444444444444, 'purple': 0.2755555555555556, 'wrong': 0.0}, 'green': {'top': 0.2551174533527475, 'purple': 0.7448825466472526, 'wrong': 0.0}, 'left_purple': {'middle': 0.0, 'blue': 1.0, 'wrong': 0.0}, 'right_purple': {'middle': 0.5067521745540321, 'bottom': 0.4932478254459679, 'wrong': 0.0}}, {'blue': {'green': 0.4555555555555556, 'middle': 0.28444444444444444, 'purple': 0.26, 'wrong': 0.0}, 'green': {'top': 0.3100449653545629, 'purple': 0.6899550346454372, 'wrong': 0.0}, 'left_purple': {'middle': 0.0, 'blue': 1.0, 'wrong': 0.0}, 'right_purple': {'middle': 0.46165490970444534, 'bottom': 0.5383450902955548, 'wrong': 0.0}}, {'blue': {'green': 0.4711111111111111, 'middle': 0.26666666666666666, 'purple': 0.2622222222222222, 'wrong': 0.0}, 'green': {'top': 0.2570861571635566, 'purple': 0.7429138428364435, 'wrong': 0.0}, 'left_purple': {'middle': 0.0, 'blue': 1.0, 'wrong': 0.0}, 'right_purple': {'middle': 0.4177351094362132, 'bottom': 0.5822648905637868, 'wrong': 0.0}}, {'blue': {'green': 0.4644444444444444, 'middle': 0.3088888888888889, 'purple': 0.22666666666666663, 'wrong': 0.0}, 'green': {'top': 0.2430900526488762, 'purple': 0.7569099473511239, 'wrong': 0.0}, 'left_purple': {'middle': 0.0, 'blue': 1.0, 'wrong': 0.0}, 'right_purple': {'middle': 0.5092590135469394, 'bottom': 0.49074098645306063, 'wrong': 0.0}}, {'blue': {'green': 0.5, 'middle': 0.24222222222222226, 'purple': 0.2577777777777778, 'wrong': 0.0}, 'green': {'top': 0.29814917653152945, 'purple': 0.7018508234684705, 'wrong': 0.0}, 'left_purple': {'middle': 1.0, 'blue': 0.0, 'wrong': 0.0}, 'right_purple': {'middle': 0.35251001900887485, 'bottom': 0.6474899809911251, 'wrong': 0.0}}, {'blue': {'green': 0.47777777777777786, 'middle': 0.2955555555555556, 'purple': 0.22666666666666663, 'wrong': 0.0}, 'green': {'top': 0.43183883854936495, 'purple': 0.5681611614506352, 'wrong': 0.0}, 'left_purple': {'middle': 1.0, 'blue': 0.0, 'wrong': 0.0}, 'right_purple': {'middle': 0.44817362404823713, 'bottom': 0.5518263759517629, 'wrong': 0.0}}, {'blue': {'green': 0.49111111111111116, 'middle': 0.25777777777777783, 'purple': 0.2511111111111111, 'wrong': 0.0}, 'green': {'top': 0.4239335990806579, 'purple': 0.5760664009193419, 'wrong': 0.0}, 'left_purple': {'middle': 1.0, 'blue': 0.0, 'wrong': 0.0}, 'right_purple': {'middle': 0.4922953625894803, 'bottom': 0.5077046374105197, 'wrong': 0.0}}, {'blue': {'green': 0.36222222222222217, 'middle': 0.3711111111111111, 'purple': 0.26666666666666666, 'wrong': 0.0}, 'green': {'top': 0.7017316017316017, 'purple': 0.29826839826839824, 'wrong': 0.0}, 'left_purple': {'middle': 1.0, 'blue': 0.0, 'wrong': 0.0}, 'right_purple': {'middle': 0.33291597291597286, 'bottom': 0.6670840270840269, 'wrong': 0.0}}, {'blue': {'green': 0.3711111111111111, 'middle': 0.26, 'purple': 0.3688888888888888, 'wrong': 0.0}, 'green': {'top': 0.32691197691197693, 'purple': 0.6730880230880232, 'wrong': 0.0}, 'left_purple': {'middle': 1.0, 'blue': 0.0, 'wrong': 0.0}, 'right_purple': {'middle': 0.5429934503161048, 'bottom': 0.4570065496838953, 'wrong': 0.0}}, {'blue': {'green': 0.4444444444444445, 'middle': 0.24222222222222226, 'purple': 0.31333333333333335, 'wrong': 0.0}, 'green': {'top': 0.5175699518346577, 'purple': 0.48243004816534224, 'wrong': 0.0}, 'left_purple': {'middle': 1.0, 'blue': 0.0, 'wrong': 0.0}, 'right_purple': {'middle': 0.3386400255517901, 'bottom': 0.6613599744482098, 'wrong': 0.0}}, {'blue': {'green': 0.48444444444444457, 'middle': 0.21333333333333332, 'purple': 0.3022222222222222, 'wrong': 0.0}, 'green': {'top': 0.311384875587662, 'purple': 0.6886151244123381, 'wrong': 0.0}, 'left_purple': {'middle': 1.0, 'blue': 0.0, 'wrong': 0.0}, 'right_purple': {'middle': 0.4137752878929349, 'bottom': 0.586224712107065, 'wrong': 0.0}}, {'blue': {'green': 0.4288888888888888, 'middle': 0.3644444444444444, 'purple': 0.20666666666666664, 'wrong': 0.0}, 'green': {'top': 0.27838277191218364, 'purple': 0.7216172280878163, 'wrong': 0.0}, 'left_purple': {'middle': 1.0, 'blue': 0.0, 'wrong': 0.0}, 'right_purple': {'middle': 0.47464770208578255, 'bottom': 0.5253522979142174, 'wrong': 0.0}}, {'blue': {'green': 0.38666666666666666, 'middle': 0.29777777777777786, 'purple': 0.31555555555555553, 'wrong': 0.0}, 'green': {'top': 0.35137866032602877, 'purple': 0.6486213396739713, 'wrong': 0.0}, 'left_purple': {'middle': 1.0, 'blue': 0.0, 'wrong': 0.0}, 'right_purple': {'middle': 0.320779764897412, 'bottom': 0.6792202351025879, 'wrong': 0.0}}, {'blue': {'green': 0.5533333333333332, 'middle': 0.20666666666666664, 'purple': 0.23999999999999996, 'wrong': 0.0}, 'green': {'top': 0.2758683410386196, 'purple': 0.7241316589613802, 'wrong': 0.0}, 'left_purple': {'middle': 1.0, 'blue': 0.0, 'wrong': 0.0}, 'right_purple': {'middle': 0.4673250955607262, 'bottom': 0.5326749044392738, 'wrong': 0.0}}, {'blue': {'green': 0.4666666666666667, 'middle': 0.28, 'purple': 0.2533333333333333, 'wrong': 0.0}, 'green': {'top': 0.4811219336219337, 'purple': 0.5188780663780663, 'wrong': 0.0}, 'left_purple': {'middle': 1.0, 'blue': 0.0, 'wrong': 0.0}, 'right_purple': {'middle': 0.5807438530967942, 'bottom': 0.41925614690320573, 'wrong': 0.0}}, {'blue': {'green': 0.3755555555555556, 'middle': 0.3822222222222223, 'purple': 0.2422222222222222, 'wrong': 0.0}, 'green': {'top': 0.345155100890395, 'purple': 0.654844899109605, 'wrong': 0.0}, 'left_purple': {'middle': 1.0, 'blue': 0.0, 'wrong': 0.0}, 'right_purple': {'middle': 0.43689919557566625, 'bottom': 0.5631008044243339, 'wrong': 0.0}}, {'blue': {'green': 0.4844444444444444, 'middle': 0.3177777777777778, 'purple': 0.1977777777777778, 'wrong': 0.0}, 'green': {'top': 0.44595225580519693, 'purple': 0.554047744194803, 'wrong': 0.0}, 'left_purple': {'middle': 1.0, 'blue': 0.0, 'wrong': 0.0}, 'right_purple': {'middle': 0.5992221263428695, 'bottom': 0.4007778736571307, 'wrong': 0.0}}, {'blue': {'green': 0.5155555555555555, 'middle': 0.2688888888888889, 'purple': 0.21555555555555558, 'wrong': 0.0}, 'green': {'top': 0.44683617036558215, 'purple': 0.5531638296344178, 'wrong': 0.0}, 'left_purple': {'middle': 1.0, 'blue': 0.0, 'wrong': 0.0}, 'right_purple': {'middle': 0.48092245989304805, 'bottom': 0.5190775401069518, 'wrong': 0.0}}, {'blue': {'green': 0.4066666666666666, 'middle': 0.2977777777777778, 'purple': 0.2955555555555555, 'wrong': 0.0}, 'green': {'top': 0.31358578240931184, 'purple': 0.6864142175906881, 'wrong': 0.0}, 'left_purple': {'middle': 1.0, 'blue': 0.0, 'wrong': 0.0}, 'right_purple': {'middle': 0.5156115212616761, 'bottom': 0.48438847873832397, 'wrong': 0.0}}, {'blue': {'green': 0.42666666666666675, 'middle': 0.2888888888888889, 'purple': 0.28444444444444444, 'wrong': 0.0}, 'green': {'top': 0.34184221007750415, 'purple': 0.6581577899224957, 'wrong': 0.0}, 'left_purple': {'middle': 1.0, 'blue': 0.0, 'wrong': 0.0}, 'right_purple': {'middle': 0.3241198616198616, 'bottom': 0.6758801383801384, 'wrong': 0.0}}, {'blue': {'green': 0.4799999999999999, 'middle': 0.2911111111111111, 'purple': 0.22888888888888886, 'wrong': 0.0}, 'green': {'top': 0.28466289214741225, 'purple': 0.7153371078525876, 'wrong': 0.0}, 'left_purple': {'middle': 1.0, 'blue': 0.0, 'wrong': 0.0}, 'right_purple': {'middle': 0.42124957945391384, 'bottom': 0.5787504205460862, 'wrong': 0.0}}, {'blue': {'green': 0.3222222222222222, 'middle': 0.3888888888888888, 'purple': 0.2888888888888889, 'wrong': 0.0}, 'green': {'top': 0.3670202020202021, 'purple': 0.632979797979798, 'wrong': 0.0}, 'left_purple': {'middle': 1.0, 'blue': 0.0, 'wrong': 0.0}, 'right_purple': {'middle': 0.36404897934309693, 'bottom': 0.6359510206569029, 'wrong': 0.0}}, {'blue': {'green': 0.4933333333333334, 'middle': 0.2822222222222222, 'purple': 0.22444444444444445, 'wrong': 0.0}, 'green': {'top': 0.4019680173627542, 'purple': 0.5980319826372457, 'wrong': 0.0}, 'left_purple': {'middle': 1.0, 'blue': 0.0, 'wrong': 0.0}, 'right_purple': {'middle': 0.5105801640166966, 'bottom': 0.48941983598330346, 'wrong': 0.0}}, {'blue': {'green': 0.46222222222222226, 'middle': 0.3377777777777778, 'purple': 0.2, 'wrong': 0.0}, 'green': {'top': 0.39178377178377183, 'purple': 0.6082162282162282, 'wrong': 0.0}, 'left_purple': {'middle': 1.0, 'blue': 0.0, 'wrong': 0.0}, 'right_purple': {'middle': 0.46663419913419907, 'bottom': 0.5333658008658009, 'wrong': 0.0}}, {'blue': {'green': 0.35555555555555557, 'middle': 0.4355555555555555, 'purple': 0.20888888888888893, 'wrong': 0.0}, 'green': {'top': 0.30727420727420734, 'purple': 0.6927257927257927, 'wrong': 0.0}, 'left_purple': {'middle': 1.0, 'blue': 0.0, 'wrong': 0.0}, 'right_purple': {'middle': 0.4775518925518927, 'bottom': 0.5224481074481074, 'wrong': 0.0}}, {'blue': {'green': 0.3177777777777778, 'middle': 0.38666666666666666, 'purple': 0.2955555555555555, 'wrong': 0.0}, 'green': {'top': 0.5890740740740742, 'purple': 0.41092592592592586, 'wrong': 0.0}, 'left_purple': {'middle': 1.0, 'blue': 0.0, 'wrong': 0.0}, 'right_purple': {'middle': 0.428189044071397, 'bottom': 0.571810955928603, 'wrong': 0.0}}, {'blue': {'green': 0.4444444444444445, 'middle': 0.2755555555555555, 'purple': 0.28, 'wrong': 0.0}, 'green': {'top': 0.4055911680911681, 'purple': 0.5944088319088319, 'wrong': 0.0}, 'left_purple': {'middle': 1.0, 'blue': 0.0, 'wrong': 0.0}, 'right_purple': {'middle': 0.41818110277223214, 'bottom': 0.5818188972277679, 'wrong': 0.0}}, {'blue': {'green': 0.40222222222222215, 'middle': 0.3711111111111111, 'purple': 0.22666666666666666, 'wrong': 0.0}, 'green': {'top': 0.3474051982875512, 'purple': 0.6525948017124488, 'wrong': 0.0}, 'left_purple': {'middle': 1.0, 'blue': 0.0, 'wrong': 0.0}, 'right_purple': {'middle': 0.5239419186478009, 'bottom': 0.47605808135219907, 'wrong': 0.0}}, {'blue': {'green': 0.45111111111111113, 'middle': 0.31333333333333324, 'purple': 0.23555555555555557, 'wrong': 0.0}, 'green': {'top': 0.3131760396466279, 'purple': 0.6868239603533721, 'wrong': 0.0}, 'left_purple': {'middle': 1.0, 'blue': 0.0, 'wrong': 0.0}, 'right_purple': {'middle': 0.5779421644746722, 'bottom': 0.42205783552532783, 'wrong': 0.0}}, {'blue': {'green': 0.4355555555555554, 'middle': 0.3244444444444444, 'purple': 0.24000000000000002, 'wrong': 0.0}, 'green': {'top': 0.3986191586191586, 'purple': 0.6013808413808414, 'wrong': 0.0}, 'left_purple': {'middle': 1.0, 'blue': 0.0, 'wrong': 0.0}, 'right_purple': {'middle': 0.7183027158027158, 'bottom': 0.2816972841972842, 'wrong': 0.0}}]\n",
      "99\n"
     ]
    }
   ],
   "source": [
    "def get_empirical_estimates_for_seed(seed: int) -> List[Dict[str, Dict[str, float]]]:\n",
    "    \"\"\"Get the empirical transition estimates for all eval steps for a given seed.\n",
    "\n",
    "    Args:\n",
    "        seed (int): experiment seed to load data from\n",
    "\n",
    "    Returns:\n",
    "        List[Dict[str, Dict[str, float]]]: empirical estimates for all eval steps\n",
    "    \"\"\"\n",
    "    \n",
    "    empirical_estimates = []\n",
    "    prev_estimate = deepcopy(initial_empirical_probs)\n",
    "    for eval_step in range(STARTING_EVAL_STEP, END_EVAL_STEP+1, EVAL_EVERY):\n",
    "        estimate = get_empirical_estimates(seed, prev_estimate, eval_step)\n",
    "        empirical_estimates.append(estimate)\n",
    "        prev_estimate = estimate\n",
    "    return empirical_estimates\n",
    "\n",
    "test = get_empirical_estimates_for_seed(400)\n",
    "print(test)\n",
    "print(len(test))\n",
    "del test"
   ]
  },
  {
   "cell_type": "markdown",
   "id": "d6181567",
   "metadata": {},
   "source": [
    "## Calculate TVD for each teleporter"
   ]
  },
  {
   "cell_type": "code",
   "execution_count": 22,
   "id": "e23d6a3e",
   "metadata": {},
   "outputs": [
    {
     "name": "stdout",
     "output_type": "stream",
     "text": [
      "{'blue': 1.0, 'green': 1.0, 'left_purple': 1.0, 'right_purple': 1.0}\n",
      "{'blue': 0.4418483702402176, 'green': 1.0, 'left_purple': 1.0, 'right_purple': 1.0}\n"
     ]
    }
   ],
   "source": [
    "def calculate_tvd_for_empirical_estimate(empirical_estimate: Dict[str, Dict[str, float]]) -> Dict[str, float]:\n",
    "    \"\"\"Calculate the total variation distance for a given empirical estimate.\n",
    "\n",
    "    Args:\n",
    "        empirical_estimate (Dict[str, Dict[str, float]]): empirical estimate to calculate TVD for\n",
    "\n",
    "    Returns:\n",
    "        Dict[str, float]: total variation distance for each state\n",
    "    \"\"\"\n",
    "    \n",
    "    tvd = {}\n",
    "    # Calculate the total variation distance for each state\n",
    "    tvd[\"blue\"] = 0.5 * np.sum(np.abs(np.array(list(empirical_estimate[\"blue\"].values())) - np.array(TRUE_BLUE_PROBS)))\n",
    "    tvd[\"green\"] = 0.5 * np.sum(np.abs(np.array(list(empirical_estimate[\"green\"].values())) - np.array(TRUE_GREEN_PROBS)))\n",
    "    tvd[\"left_purple\"] = 0.5 * np.sum(np.abs(np.array(list(empirical_estimate[\"left_purple\"].values())) - np.array(TRUE_LEFT_PURPLE_PROBS)))\n",
    "    tvd[\"right_purple\"] = 0.5 * np.sum(np.abs(np.array(list(empirical_estimate[\"right_purple\"].values())) - np.array(TRUE_RIGHT_PURPLE_PROBS)))\n",
    "    return tvd\n",
    "\n",
    "test = calculate_tvd_for_empirical_estimate(initial_empirical_probs)\n",
    "print(test)\n",
    "del test\n",
    "\n",
    "test = calculate_tvd_for_empirical_estimate(get_empirical_estimates(100, initial_empirical_probs, 3500))\n",
    "print(test)\n",
    "del test"
   ]
  },
  {
   "cell_type": "markdown",
   "id": "dad68ac9",
   "metadata": {},
   "source": [
    "## Calculate TVD at each Eval Epoch"
   ]
  },
  {
   "cell_type": "code",
   "execution_count": null,
   "id": "83b3a176",
   "metadata": {},
   "outputs": [
    {
     "name": "stdout",
     "output_type": "stream",
     "text": [
      "[{'blue': 1.0, 'green': 1.0, 'left_purple': 1.0, 'right_purple': 1.0}, {'blue': 0.4418483702402176, 'green': 1.0, 'left_purple': 1.0, 'right_purple': 1.0}, {'blue': 0.5463968509131049, 'green': 0.5833333333333333, 'left_purple': 1.0, 'right_purple': 1.0}, {'blue': 0.40476190476190477, 'green': 0.75, 'left_purple': 1.0, 'right_purple': 1.0}, {'blue': 0.5, 'green': 0.75, 'left_purple': 1.0, 'right_purple': 1.0}, {'blue': 0.6668055555555557, 'green': 0.16666666666666666, 'left_purple': 0.5454545454545454, 'right_purple': 1.0}, {'blue': 0.37635163987393594, 'green': 0.12589285714285714, 'left_purple': 0.33632848461021836, 'right_purple': 0.38460978835978843}, {'blue': 0.4409380341880342, 'green': 0.5384615384615384, 'left_purple': 0.4620745745745745, 'right_purple': 0.525}, {'blue': 0.3597100032583904, 'green': 0.065988960466563, 'left_purple': 0.4260460305277378, 'right_purple': 0.4454545454545455}, {'blue': 0.1685456557989765, 'green': 0.08470733329054703, 'left_purple': 0.39751411420433846, 'right_purple': 0.75}, {'blue': 0.21240046607693666, 'green': 0.3179166666666666, 'left_purple': 0.22991428592047786, 'right_purple': 0.5121212121212121}, {'blue': 0.2931793167751238, 'green': 0.32025699371207544, 'left_purple': 0.10211966868700617, 'right_purple': 0.40476190476190477}, {'blue': 0.6887212643678161, 'green': 0.5083333333333333, 'left_purple': 0.2599206349206349, 'right_purple': 0.8333333333333334}, {'blue': 0.18026664332456643, 'green': 0.34133545607732096, 'left_purple': 0.1409715901361816, 'right_purple': 0.5833333333333334}, {'blue': 0.137726164798593, 'green': 0.21458333333333332, 'left_purple': 0.1722169910985701, 'right_purple': 0.5086111111111111}, {'blue': 0.21301287391223758, 'green': 0.1896097883597884, 'left_purple': 0.11418772699035865, 'right_purple': 0.14126984126984127}, {'blue': 0.19664905560624132, 'green': 0.2232751274353441, 'left_purple': 0.032841841164554936, 'right_purple': 0.6}, {'blue': 0.20540750852994974, 'green': 0.18387297011354756, 'left_purple': 0.1682786534576637, 'right_purple': 0.3837896825396825}, {'blue': 0.19020596426905717, 'green': 0.3524150690211062, 'left_purple': 0.29935667001843475, 'right_purple': 0.6666666666666666}, {'blue': 0.24970495207724308, 'green': 0.07502695503288892, 'left_purple': 0.17615640938009355, 'right_purple': 1.0}, {'blue': 0.22446549772325963, 'green': 0.21856605991474412, 'left_purple': 0.255848540106974, 'right_purple': 0.5714285714285714}, {'blue': 0.11487317456138962, 'green': 0.15959757834757832, 'left_purple': 0.08654838957543207, 'right_purple': 0.10555555555555558}, {'blue': 0.11001827887571067, 'green': 0.23517672858617125, 'left_purple': 0.07161352797828097, 'right_purple': 0.4375}, {'blue': 0.17536005756787493, 'green': 0.11907762014960163, 'left_purple': 0.23517179498061844, 'right_purple': 0.6}, {'blue': 0.042457243708512504, 'green': 0.03486212861212859, 'left_purple': 0.04785027880616119, 'right_purple': 0.14901477832512317}, {'blue': 0.06143628758124309, 'green': 0.27819261620732205, 'left_purple': 0.15435700315075057, 'right_purple': 0.35}, {'blue': 0.1493195661859647, 'green': 0.2022022596917555, 'left_purple': 0.07888844257007124, 'right_purple': 0.38333333333333336}, {'blue': 0.20211717978283333, 'green': 0.27922979797979797, 'left_purple': 0.06793326169874153, 'right_purple': 0.2767857142857143}, {'blue': 0.05492351458311015, 'green': 0.2011456598956599, 'left_purple': 0.14110311442227721, 'right_purple': 0.7142857142857143}, {'blue': 0.12100955280521625, 'green': 0.2851208513708514, 'left_purple': 0.18184216382745794, 'right_purple': 0.35458333333333336}, {'blue': 0.10430074817371718, 'green': 0.06892975094547107, 'left_purple': 0.15335149241882984, 'right_purple': 0.5121212121212121}, {'blue': 0.0833820316327683, 'green': 0.29779976602345026, 'left_purple': 0.04648428669713506, 'right_purple': 0.4018518518518518}, {'blue': 0.11990295023189762, 'green': 0.2268223905723906, 'left_purple': 0.09899448748132961, 'right_purple': 0.24305555555555555}, {'blue': 0.09833111099037817, 'green': 0.20484335281161906, 'left_purple': 0.08599118783406706, 'right_purple': 0.08012820512820512}, {'blue': 0.16658153158917713, 'green': 0.13792212417212427, 'left_purple': 0.04733699779752412, 'right_purple': 0.12407407407407404}, {'blue': 0.06663250948899663, 'green': 0.16622428830920283, 'left_purple': 0.11406530804156101, 'right_purple': 0.48458333333333337}, {'blue': 0.05905012185662217, 'green': 0.23926268448327281, 'left_purple': 0.07846294843114746, 'right_purple': 0.46190476190476193}, {'blue': 0.13943244161897408, 'green': 0.0773974765344734, 'left_purple': 0.19694546466605287, 'right_purple': 0.9285714285714286}, {'blue': 0.09172096261381973, 'green': 0.03848938370997193, 'left_purple': 0.11197820622430826, 'right_purple': 0.5333333333333333}, {'blue': 0.16804525253396663, 'green': 0.2864976416734728, 'left_purple': 0.06596600422132115, 'right_purple': 0.2857142857142857}, {'blue': 0.11739838110524296, 'green': 0.2131516495487083, 'left_purple': 0.0596698307712239, 'right_purple': 0.5833333333333334}, {'blue': 0.08299986206421861, 'green': 0.1464430454369479, 'left_purple': 0.15191202488029112, 'right_purple': 0.47207341269841274}, {'blue': 0.1305338318333924, 'green': 0.0918823671168873, 'left_purple': 0.07833923096019874, 'right_purple': 0.41947021232735515}, {'blue': 0.11063277391837759, 'green': 0.24414756052913952, 'left_purple': 0.042088018190959336, 'right_purple': 0.3503505291005291}, {'blue': 0.05113266880757256, 'green': 0.21717350459997514, 'left_purple': 0.05721695301029664, 'right_purple': 0.06431878306878305}, {'blue': 0.14083682351389162, 'green': 0.14322621077416467, 'left_purple': 0.17643858420561212, 'right_purple': 0.30111464345839345}, {'blue': 0.06706043755626556, 'green': 0.1945931873137756, 'left_purple': 0.0687123524623525, 'right_purple': 0.360290404040404}, {'blue': 0.08013888888888887, 'green': 0.3763478650978651, 'left_purple': 0.5374623524623525, 'right_purple': 0.26037490657914}, {'blue': 0.12013888888888892, 'green': 0.15398199023199022, 'left_purple': 0.5374623524623525, 'right_purple': 0.2513591409450542}, {'blue': 0.1601388888888889, 'green': 0.1902320364820365, 'left_purple': 0.5374623524623525, 'right_purple': 0.2423737369690728}, {'blue': 0.07124999999999995, 'green': 0.27557844932844944, 'left_purple': 0.75, 'right_purple': 0.23729769843159942}, {'blue': 0.20458333333333334, 'green': 0.5026454019836373, 'left_purple': 0.75, 'right_purple': 0.625}, {'blue': 0.11370051622423538, 'green': 0.4304673645491723, 'left_purple': 0.2748931623931623, 'right_purple': 0.4979166666666667}, {'blue': 0.1371230329864106, 'green': 0.09684005264887613, 'left_purple': 0.18413359788359784, 'right_purple': 0.10285515410515403}, {'blue': 0.23798091849562442, 'green': 0.13546299833064535, 'left_purple': 0.1298119935619936, 'right_purple': 0.09994130869130871}, {'blue': 0.13933719058719057, 'green': 0.2490388233770587, 'left_purple': 0.03551647426647431, 'right_purple': 0.12922769224239816}, {'blue': 0.07594447798669807, 'green': 0.3335961723461724, 'left_purple': 0.06426587301587308, 'right_purple': 0.23884887873277966}, {'blue': 0.1574282914534338, 'green': 0.16275850983668322, 'left_purple': 0.09458092833092835, 'right_purple': 0.3020336607836608}, {'blue': 0.16028225806451613, 'green': 0.17931915306915314, 'left_purple': 0.3564625850340136, 'right_purple': 0.17488396688911564}, {'blue': 0.1507132041477392, 'green': 0.19391604310721952, 'left_purple': 0.16762820512820514, 'right_purple': 0.06870398249268217}, {'blue': 0.08128584229390684, 'green': 0.2298935786435786, 'left_purple': 0.225, 'right_purple': 0.07601603776913377}, {'blue': 0.15182225480612577, 'green': 0.1690846054816643, 'left_purple': 0.0871212121212121, 'right_purple': 0.1488722753854332}, {'blue': 0.15791666666666665, 'green': 0.1613022571110806, 'left_purple': 0.75, 'right_purple': 0.12265261699085231}, {'blue': 0.20680555555555558, 'green': 0.11319055399937758, 'left_purple': 1.0, 'right_purple': 0.0934104759762654}, {'blue': 0.1823611111111111, 'green': 0.22669559471030057, 'left_purple': 1.0, 'right_purple': 0.2568504179634548}, {'blue': 0.12286290322580641, 'green': 0.15975233100233102, 'left_purple': 0.29166666666666663, 'right_purple': 0.16731328801543507}, {'blue': 0.10960125448028671, 'green': 0.1126959614459615, 'left_purple': 0.75, 'right_purple': 0.08104040023157674}, {'blue': 0.10902777777777775, 'green': 0.16726454101454108, 'left_purple': 0.75, 'right_purple': 0.21768373883311962}, {'blue': 0.07125000000000001, 'green': 0.14500746573114995, 'left_purple': 0.75, 'right_purple': 0.08534983663853632}, {'blue': 0.21347222222222217, 'green': 0.20469319537817995, 'left_purple': 1.0, 'right_purple': 0.05846986723635672}, {'blue': 0.17146505376344082, 'green': 0.22287274000509297, 'left_purple': 0.29166666666666663, 'right_purple': 0.08338894510488945}, {'blue': 0.06902777777777777, 'green': 0.17216057091057094, 'left_purple': 0.6666666666666666, 'right_purple': 0.05041474220653788}, {'blue': 0.05347222222222223, 'green': 0.20453190328190327, 'left_purple': 0.6666666666666666, 'right_purple': 0.1341329039897151}, {'blue': 0.2001388888888889, 'green': 0.13708615902501353, 'left_purple': 0.6666666666666666, 'right_purple': 0.07078604334274677}, {'blue': 0.08236111111111108, 'green': 0.32442404817404824, 'left_purple': 0.6666666666666666, 'right_purple': 0.04978495957884166}, {'blue': 0.08458333333333337, 'green': 0.08288817663817663, 'left_purple': 0.75, 'right_purple': 0.0601862924657042}, {'blue': 0.10157258064516128, 'green': 0.21563394938394947, 'left_purple': 0.75, 'right_purple': 0.05760361284742091}, {'blue': 0.13748655913978491, 'green': 0.12055556371732837, 'left_purple': 0.48333333333333334, 'right_purple': 0.11088589529379009}, {'blue': 0.17404569892473115, 'green': 0.17127275502275505, 'left_purple': 0.6666666666666666, 'right_purple': 0.18680194254851004}, {'blue': 0.19426075268817203, 'green': 0.12350658099497105, 'left_purple': 0.125, 'right_purple': 0.058754202036776976}, {'blue': 0.21261200716845877, 'green': 0.1601371912401324, 'left_purple': 0.125, 'right_purple': 0.08064659197012145}, {'blue': 0.20096774193548383, 'green': 0.12630410711293064, 'left_purple': 0.16287878787878785, 'right_purple': 0.07671621598041711}, {'blue': 0.1656406810035842, 'green': 0.3004630092130092, 'left_purple': 0.268939393939394, 'right_purple': 0.09948660771275966}, {'blue': 0.14814068100358418, 'green': 0.046272504728387065, 'left_purple': 0.225, 'right_purple': 0.14876957508149455}, {'blue': 0.1405689964157706, 'green': 0.16910467800173679, 'left_purple': 0.75, 'right_purple': 0.09438935195463663}, {'blue': 0.08680555555555555, 'green': 0.12512834387834393, 'left_purple': 0.75, 'right_purple': 0.15522919990799253}, {'blue': 0.08013888888888884, 'green': 0.03511780430898073, 'left_purple': 1.0, 'right_purple': 0.1768833613067359}, {'blue': 0.20956989247311839, 'green': 0.08252705627705625, 'left_purple': 0.300595238095238, 'right_purple': 0.21170656262643742}, {'blue': 0.17841845878136195, 'green': 0.13460448664396035, 'left_purple': 0.1, 'right_purple': 0.1820012661630309}, {'blue': 0.20013888888888884, 'green': 0.07109681096910198, 'left_purple': 0.625, 'right_purple': 0.2688845752456265}, {'blue': 0.18204504724666015, 'green': 0.08962884337884336, 'left_purple': 0.16346153846153846, 'right_purple': 0.13207562783220678}, {'blue': 0.1638664874551971, 'green': 0.11177971538265655, 'left_purple': 0.45833333333333337, 'right_purple': 0.1752110054548134}, {'blue': 0.13046146953405013, 'green': 0.18881817256817254, 'left_purple': 0.13392857142857142, 'right_purple': 0.20955453328198653}, {'blue': 0.1458736559139785, 'green': 0.07714978734715575, 'left_purple': 0.625, 'right_purple': 0.18809779444841362}, {'blue': 0.20709229390681003, 'green': 0.27773573648573646, 'left_purple': 0.1, 'right_purple': 0.14904530855617817}, {'blue': 0.15497759856630824, 'green': 0.09557027667321782, 'left_purple': 0.75, 'right_purple': 0.21920528545528545}, {'blue': 0.03347222222222224, 'green': 0.1266444203944204, 'left_purple': 0.75, 'right_purple': 0.16865767517083305}, {'blue': 0.10458333333333325, 'green': 0.1578378783525843, 'left_purple': 1.0, 'right_purple': 0.11436908038069021}, {'blue': 0.15791666666666665, 'green': 0.17126813001812996, 'left_purple': 0.75, 'right_purple': 0.1757654478591011}]\n",
      "99\n"
     ]
    }
   ],
   "source": [
    "def get_tvd_for_seed(seed: int) -> List[Dict[str, float]]:\n",
    "    \"\"\"Get the total variation distance for all eval steps for a given seed.\n",
    "\n",
    "    Args:\n",
    "        seed (int): experiment seed to load data from\n",
    "\n",
    "    Returns:\n",
    "        List[Dict[str, float]]: total variation distance for all eval steps\n",
    "    \"\"\"\n",
    "    \n",
    "    empirical_estimates = get_empirical_estimates_for_seed(seed)\n",
    "    tvd = []\n",
    "    for estimate in empirical_estimates:\n",
    "        tvd.append(calculate_tvd_for_empirical_estimate(estimate))\n",
    "    return tvd\n",
    "\n",
    "test = get_tvd_for_seed(100)\n",
    "print(test)\n",
    "print(len(test))\n",
    "del test"
   ]
  },
  {
   "cell_type": "markdown",
   "id": "823d5662",
   "metadata": {},
   "source": [
    "## Compute results for each seed, add to DF and save to CSV"
   ]
  },
  {
   "cell_type": "code",
   "execution_count": 32,
   "id": "8c408f8c",
   "metadata": {},
   "outputs": [
    {
     "name": "stderr",
     "output_type": "stream",
     "text": [
      "C:\\Users\\Matt\\AppData\\Local\\Temp\\ipykernel_19716\\190052294.py:10: FutureWarning: The behavior of DataFrame concatenation with empty or all-NA entries is deprecated. In a future version, this will no longer exclude empty or all-NA columns when determining the result dtypes. To retain the old behavior, exclude the relevant entries before the concat operation.\n",
      "  results_df = pd.concat([results_df, pd.DataFrame([[seed, STARTING_EVAL_STEP + eval_step * EVAL_EVERY, tvd_values[\"blue\"], tvd_values[\"green\"], tvd_values[\"left_purple\"], tvd_values[\"right_purple\"], mean_tvd, mean_tvd_excluding_left_purple]], columns=results_df.columns)], ignore_index=True)\n"
     ]
    },
    {
     "name": "stdout",
     "output_type": "stream",
     "text": [
      "            seed              blue_tvd           green_tvd            \\\n",
      "            mean         std      mean       std      mean       std   \n",
      "eval_step                                                              \n",
      "2500       250.0  129.099445  1.000000  0.000000  1.000000  0.000000   \n",
      "3500       250.0  129.099445  0.407408  0.080475  0.851190  0.197418   \n",
      "4500       250.0  129.099445  0.378712  0.149197  0.591463  0.120295   \n",
      "5500       250.0  129.099445  0.449859  0.156372  0.721187  0.152780   \n",
      "6500       250.0  129.099445  0.577783  0.103325  0.643628  0.127818   \n",
      "...          ...         ...       ...       ...       ...       ...   \n",
      "96500      250.0  129.099445  0.143544  0.051069  0.175603  0.101538   \n",
      "97500      250.0  129.099445  0.150515  0.009886  0.140022  0.036194   \n",
      "98500      250.0  129.099445  0.120139  0.058878  0.144397  0.047634   \n",
      "99500      250.0  129.099445  0.150139  0.032936  0.141747  0.075975   \n",
      "100500     250.0  129.099445  0.140694  0.015857  0.140128  0.030985   \n",
      "\n",
      "          left_purple_tvd           right_purple_tvd            mean_tvd  \\\n",
      "                     mean       std             mean       std      mean   \n",
      "eval_step                                                                  \n",
      "2500             1.000000  0.000000         1.000000  0.000000  1.000000   \n",
      "3500             0.937500  0.125000         0.885045  0.229911  0.770286   \n",
      "4500             0.775694  0.259068         0.679756  0.402302  0.606406   \n",
      "5500             0.722348  0.211244         0.829871  0.294569  0.680816   \n",
      "6500             0.611965  0.288704         0.590167  0.312604  0.605886   \n",
      "...                   ...       ...              ...       ...       ...   \n",
      "96500            0.775000  0.450000         0.136058  0.024271  0.307551   \n",
      "97500            0.937500  0.125000         0.125474  0.072763  0.338378   \n",
      "98500            0.937500  0.125000         0.084667  0.059935  0.321676   \n",
      "99500            0.937500  0.125000         0.122971  0.052165  0.338089   \n",
      "100500           0.937500  0.125000         0.132763  0.097070  0.337771   \n",
      "\n",
      "                    mean_tvd_excluding_left_purple            \n",
      "                std                           mean       std  \n",
      "eval_step                                                     \n",
      "2500       0.000000                       1.000000  0.000000  \n",
      "3500       0.124937                       0.714548  0.131783  \n",
      "4500       0.216865                       0.549977  0.210547  \n",
      "5500       0.116093                       0.666972  0.104671  \n",
      "6500       0.140989                       0.603860  0.104819  \n",
      "...             ...                            ...       ...  \n",
      "96500      0.086151                       0.151735  0.051049  \n",
      "97500      0.025201                       0.138670  0.019702  \n",
      "98500      0.038898                       0.116401  0.023989  \n",
      "99500      0.034258                       0.138286  0.014306  \n",
      "100500     0.028493                       0.137862  0.037404  \n",
      "\n",
      "[99 rows x 14 columns]\n"
     ]
    }
   ],
   "source": [
    "results_df = pd.DataFrame(columns=[\"seed\", \"eval_step\", \"blue_tvd\", \"green_tvd\", \"left_purple_tvd\", \"right_purple_tvd\", \"mean_tvd\", \"mean_tvd_excluding_left_purple\"])\n",
    "\n",
    "for seed in SEEDS:\n",
    "    empirical_estimates = get_empirical_estimates_for_seed(seed)\n",
    "    tvd = get_tvd_for_seed(seed)\n",
    "    for eval_step, estimate in enumerate(empirical_estimates):\n",
    "        tvd_values = tvd[eval_step]\n",
    "        mean_tvd = np.mean(list(tvd_values.values()))\n",
    "        mean_tvd_excluding_left_purple = np.mean([tvd_values[\"blue\"], tvd_values[\"green\"], tvd_values[\"right_purple\"]])\n",
    "        results_df = pd.concat([results_df, pd.DataFrame([[seed, STARTING_EVAL_STEP + eval_step * EVAL_EVERY, tvd_values[\"blue\"], tvd_values[\"green\"], tvd_values[\"left_purple\"], tvd_values[\"right_purple\"], mean_tvd, mean_tvd_excluding_left_purple]], columns=results_df.columns)], ignore_index=True)\n",
    "\n",
    "results_df.to_csv(\"tvd_results.csv\", index=False)\n",
    "\n",
    "# Calculate mean and std across seeds for each eval step\n",
    "mean_results_df = results_df.groupby(\"eval_step\").agg([\"mean\", \"std\"])\n",
    "print(mean_results_df)\n",
    "mean_results_df.to_csv(\"tvd_mean_results.csv\", index=True)\n",
    "        "
   ]
  }
 ],
 "metadata": {
  "kernelspec": {
   "display_name": "deep_learning",
   "language": "python",
   "name": "python3"
  },
  "language_info": {
   "codemirror_mode": {
    "name": "ipython",
    "version": 3
   },
   "file_extension": ".py",
   "mimetype": "text/x-python",
   "name": "python",
   "nbconvert_exporter": "python",
   "pygments_lexer": "ipython3",
   "version": "3.12.2"
  }
 },
 "nbformat": 4,
 "nbformat_minor": 5
}
